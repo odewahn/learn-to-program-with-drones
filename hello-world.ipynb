{
 "cells": [
  {
   "cell_type": "markdown",
   "metadata": {},
   "source": [
    "# Learn to Program with Drones\n",
    "\n",
    "\n",
    "Get a [Parrot MiniDrone Rolling Spider](https://www.amazon.com/gp/product/B00KZM53ZK/ref=oh_aui_detailpage_o00_s00?ie=UTF8&psc=1) drone.  It looks like this:\n",
    "\n",
    "<img src=\"images/parrot-drone.jpg\" width=\"50%\" />"
   ]
  },
  {
   "cell_type": "markdown",
   "metadata": {},
   "source": [
    "## Turning on the drone\n",
    "\n",
    "If the drone's front is facing you, look over the top.  There is a tiny red tab that you must press in to turn it on or off.  I found to worked best if I used the nail of my index finger to push it in.  Both eyes will turn green when the drone is booted and ready to connect.\n",
    "\n",
    "<img src=\"images/parrot-on-off-switch.jpg\" width=\"50%\" />\n"
   ]
  },
  {
   "cell_type": "markdown",
   "metadata": {},
   "source": [
    "## Establising bluetooth-le connection\n",
    "\n",
    "Once the drone is powered on, you can connect to it over Bluetooth low energy.  Unfortunately, OSX doesn't show BLE devices.  Per [how-to-connect-from-drone-to-pc-by-bluetooth](http://forum.developer.parrot.com/t/how-to-connect-from-drone-to-pc-by-bluetooth/5137/5), you can download the free [LightBlue](https://itunes.apple.com/gb/app/lightblue/id639944780?mt=12) app, which will let you be able to see and connect to your drone.\n",
    "\n",
    "Once the program starts, you should see the drone appear in the list of Periphrials (it will end with start with the prefix `RS_`):\n",
    "\n",
    "<img src=\"images/lightblue.png\" width=\"80%\"/>\n",
    "\n",
    "Once you've selected the devices, hold down the shift+option and click the bluetooth icon in the menu bar.  This will show you the [debug menu for bluetooth]( https://www.macobserver.com/tmo/article/os-x-bluetooth-menu-reset-devices\n",
    ") and provide some additional information you'll need later.\n",
    "\n",
    "\n",
    "<img src=\"images/advanced-bluetooth.png\" width=\"30%\"/>"
   ]
  },
  {
   "cell_type": "markdown",
   "metadata": {},
   "source": [
    "## Connect with JavaScript\n",
    "\n",
    "* https://github.com/voodootikigod/node-rolling-spider\n",
    "* https://github.com/sandeepmistry/noble\n",
    "\n",
    "Be sure to `npm install --save rolling-spider`"
   ]
  },
  {
   "cell_type": "code",
   "execution_count": 1,
   "metadata": {
    "collapsed": true
   },
   "outputs": [],
   "source": [
    "var RollingSpider = require(\"rolling-spider\");\n",
    "var rollingSpider = new RollingSpider();"
   ]
  },
  {
   "cell_type": "code",
   "execution_count": 2,
   "metadata": {
    "collapsed": false
   },
   "outputs": [
    {
     "name": "stdout",
     "output_type": "stream",
     "text": [
      "Connected to drone RS_R072470\n"
     ]
    }
   ],
   "source": [
    "rollingSpider.connect(function() {\n",
    "  rollingSpider.setup(function() {\n",
    "    rollingSpider.flatTrim();\n",
    "    rollingSpider.startPing();\n",
    "    rollingSpider.flatTrim();\n",
    "    console.log('Connected to drone', rollingSpider.name);\n",
    "  });\n",
    "});"
   ]
  },
  {
   "cell_type": "code",
   "execution_count": 6,
   "metadata": {
    "collapsed": false
   },
   "outputs": [],
   "source": [
    "rollingSpider.takeoff(function() {return true})"
   ]
  },
  {
   "cell_type": "code",
   "execution_count": 7,
   "metadata": {
    "collapsed": true
   },
   "outputs": [],
   "source": [
    "rollingSpider.backFlip(function() {return true})"
   ]
  },
  {
   "cell_type": "code",
   "execution_count": 9,
   "metadata": {
    "collapsed": true
   },
   "outputs": [],
   "source": [
    "rollingSpider.backFlip(() => {return true})"
   ]
  },
  {
   "cell_type": "code",
   "execution_count": 8,
   "metadata": {
    "collapsed": true
   },
   "outputs": [],
   "source": [
    "rollingSpider.land(function() {return true})"
   ]
  },
  {
   "cell_type": "markdown",
   "metadata": {},
   "source": [
    "## What Next\n",
    "\n",
    "The use the Jupyter Notebook and the javascript kernel to create sets of programming excercises that illustrate programming concepts:\n",
    "\n",
    "* variables\n",
    "* functions\n",
    "* loops\n",
    "\n",
    "Then do excrcises that are basically like the logo turtle, but in 3D and with a drone.\n",
    "\n",
    "* Capstone exercise: Kids synchronized drone show\n",
    "\n",
    "### Explore go\n",
    "\n",
    "Might also look at\n",
    "\n",
    "* https://github.com/hybridgroup/gobot\n",
    "* http://gort.io/"
   ]
  },
  {
   "cell_type": "code",
   "execution_count": null,
   "metadata": {
    "collapsed": true
   },
   "outputs": [],
   "source": []
  }
 ],
 "metadata": {
  "kernelspec": {
   "display_name": "Javascript (Node.js)",
   "language": "javascript",
   "name": "javascript"
  },
  "language_info": {
   "file_extension": ".js",
   "mimetype": "application/javascript",
   "name": "javascript",
   "version": "6.10.2"
  }
 },
 "nbformat": 4,
 "nbformat_minor": 0
}
