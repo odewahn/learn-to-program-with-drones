{
 "cells": [
  {
   "cell_type": "markdown",
   "metadata": {},
   "source": [
    "# Learn to Program with Drones\n",
    "\n",
    "\n",
    "Get a [Parrot MiniDrone Rolling Spider](https://www.amazon.com/gp/product/B00KZM53ZK/ref=oh_aui_detailpage_o00_s00?ie=UTF8&psc=1) drone:\n",
    "\n",
    "<img src=\"images/parrot-drone.jpg\" width=\"50%\" />\n",
    "\n",
    "In this notebook we'll learn how to connect our Parrot drone to a Mac using Bluetooth LE, and then fly it using Javascript commands.  These kinds of small programs are often called \"Hello, world!\", and are meant to show a very small program that demonstrates the language and environment are configure correctly."
   ]
  },
  {
   "cell_type": "markdown",
   "metadata": {},
   "source": [
    "## Turning on the drone\n",
    "\n",
    "Turn the drone upside down with the face towards you (i.e., propellors up with the eyes facing your body).  There is a tiny red tab that you must press in to turn it on or off.  I found it worked best if I used the nail of my index finger.  \n",
    "\n",
    "<img src=\"images/parrot-on-off-switch.jpg\" width=\"50%\" />\n",
    "\n",
    "Both eyes will turn green when the drone is booted and ready to connect."
   ]
  },
  {
   "cell_type": "markdown",
   "metadata": {},
   "source": [
    "## Establising Bluetooth Low Energy\n",
    "\n",
    "Once the drone is powered on, you can connect to it over Bluetooth Low Energy (BLE).  Unfortunately, OSX doesn't show display BLE devices.  Per [how-to-connect-from-drone-to-pc-by-bluetooth](http://forum.developer.parrot.com/t/how-to-connect-from-drone-to-pc-by-bluetooth/5137/5), download the free [LightBlue](https://itunes.apple.com/gb/app/lightblue/id639944780?mt=12) app, which will let you be able to find and connect to your drone (and other BLE devices).\n",
    "\n",
    "Once the program starts, you should see the drone appear in the list of Peripherals (it will start with the prefix `RS_`):\n",
    "\n",
    "<img src=\"images/lightblue.png\" width=\"80%\"/>\n",
    "\n",
    "Once you've selected the devices, hold down the shift+option and click the bluetooth icon in the menu bar.  This will show you the [debug menu for bluetooth]( https://www.macobserver.com/tmo/article/os-x-bluetooth-menu-reset-devices\n",
    "):\n",
    "\n",
    "\n",
    "<img src=\"images/advanced-bluetooth.png\" width=\"30%\"/>"
   ]
  },
  {
   "cell_type": "markdown",
   "metadata": {},
   "source": [
    "## Connect with JavaScript\n",
    "\n",
    "* https://github.com/voodootikigod/node-rolling-spider\n",
    "* https://github.com/sandeepmistry/noble\n",
    "\n",
    "Be sure to `npm install --save rolling-spider`\n",
    "\n",
    "The first thing we need to do is load the library so we can use it:"
   ]
  },
  {
   "cell_type": "code",
   "execution_count": 1,
   "metadata": {
    "collapsed": true
   },
   "outputs": [],
   "source": [
    "var RollingSpider = require(\"rolling-spider\");\n",
    "var rollingSpider = new RollingSpider();"
   ]
  },
  {
   "cell_type": "markdown",
   "metadata": {},
   "source": [
    "Now initialize the connection:"
   ]
  },
  {
   "cell_type": "code",
   "execution_count": 12,
   "metadata": {
    "collapsed": false
   },
   "outputs": [],
   "source": [
    "rollingSpider.connect(function() {\n",
    "  rollingSpider.setup(function() {\n",
    "    rollingSpider.flatTrim();\n",
    "    rollingSpider.startPing();\n",
    "    rollingSpider.flatTrim();\n",
    "    console.log('Connected to drone', rollingSpider.name);\n",
    "  });\n",
    "});"
   ]
  },
  {
   "cell_type": "markdown",
   "metadata": {},
   "source": [
    "If all goes well, we should be able to take off!"
   ]
  },
  {
   "cell_type": "code",
   "execution_count": 13,
   "metadata": {
    "collapsed": false
   },
   "outputs": [],
   "source": [
    "rollingSpider.takeoff(function() {return true})"
   ]
  },
  {
   "cell_type": "markdown",
   "metadata": {},
   "source": [
    "Now try a few tricks:"
   ]
  },
  {
   "cell_type": "code",
   "execution_count": 14,
   "metadata": {
    "collapsed": true
   },
   "outputs": [],
   "source": [
    "rollingSpider.backFlip(function() {return true})"
   ]
  },
  {
   "cell_type": "code",
   "execution_count": 15,
   "metadata": {
    "collapsed": true
   },
   "outputs": [],
   "source": [
    "rollingSpider.frontFlip(function() {return true})"
   ]
  },
  {
   "cell_type": "markdown",
   "metadata": {},
   "source": [
    "We can also use JavaScript's arrow notation for ES5:"
   ]
  },
  {
   "cell_type": "code",
   "execution_count": 16,
   "metadata": {
    "collapsed": true
   },
   "outputs": [],
   "source": [
    "rollingSpider.frontFlip(() => {return true})"
   ]
  },
  {
   "cell_type": "markdown",
   "metadata": {},
   "source": [
    "And now take it in for a landing:"
   ]
  },
  {
   "cell_type": "code",
   "execution_count": 17,
   "metadata": {
    "collapsed": true
   },
   "outputs": [],
   "source": [
    "rollingSpider.land(function() {return true})"
   ]
  },
  {
   "cell_type": "markdown",
   "metadata": {},
   "source": [
    "Now that we've got our obligatory \"Hello, world!\" test out of the way, we're ready to try some more advanced programs."
   ]
  }
 ],
 "metadata": {
  "kernelspec": {
   "display_name": "Javascript (Node.js)",
   "language": "javascript",
   "name": "javascript"
  },
  "language_info": {
   "file_extension": ".js",
   "mimetype": "application/javascript",
   "name": "javascript",
   "version": "6.10.2"
  }
 },
 "nbformat": 4,
 "nbformat_minor": 0
}
